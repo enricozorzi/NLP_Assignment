{
 "cells": [
  {
   "cell_type": "markdown",
   "metadata": {},
   "source": [
    "# Esercizio 1 \n",
    "#### Input e download "
   ]
  },
  {
   "cell_type": "code",
   "execution_count": 1,
   "metadata": {},
   "outputs": [],
   "source": [
    "import nltk\n",
    "import random\n",
    "from nltk.corpus import movie_reviews\n",
    "from nltk.corpus import stopwords, words\n",
    "from nltk.corpus.util import LazyCorpusLoader\n",
    "from nltk.corpus.reader import *\n",
    "from nltk.stem import WordNetLemmatizer\n",
    "import re\n",
    "from nltk.metrics.scores import precision, recall, f_measure\n",
    "import numpy as np\n",
    "from collections import defaultdict\n",
    "from nltk.tokenize import word_tokenize\n",
    "#nltk.download('europarl_raw')\n",
    "#nltk.download('stopwords')\n",
    "#nltk.download('wordnet')\n",
    "#nltk.download('omw-1.4')\n",
    "#nltk.download('punkt')"
   ]
  },
  {
   "cell_type": "code",
   "execution_count": 20,
   "metadata": {},
   "outputs": [],
   "source": [
    "def find_features(document):\n",
    "    words = set(document)\n",
    "    features = {}\n",
    "    for w in word_features:\n",
    "        features[w] = (w in words)\n",
    "    return features"
   ]
  },
  {
   "cell_type": "markdown",
   "metadata": {},
   "source": [
    "### Importo il  raw  di EuroparlCorpusReader da diverse lingue \n",
    "Salvo **40000** parole in lingua **inglese** e **10000** parole di **ogni altra lingua importata**"
   ]
  },
  {
   "cell_type": "code",
   "execution_count": 4,
   "metadata": {},
   "outputs": [],
   "source": [
    "english = LazyCorpusLoader('europarl_raw/english', EuroparlCorpusReader, r'ep-.*\\.en', encoding='utf-8')\n",
    "italian =  LazyCorpusLoader('europarl_raw/italian', EuroparlCorpusReader, r'ep-.*\\.it', encoding='utf-8')\n",
    "french =   LazyCorpusLoader('europarl_raw/french', EuroparlCorpusReader, r'ep-.*\\.fr', encoding='utf-8')\n",
    "spanish = LazyCorpusLoader('europarl_raw/spanish', EuroparlCorpusReader, r'ep-.*\\.es', encoding='utf-8')\n",
    "german = LazyCorpusLoader('europarl_raw/german', EuroparlCorpusReader, r'ep-.*\\.de', encoding='utf-8')\n",
    "\n",
    "words = english.words()[:40000]\n",
    "words += italian.words()[:10000]\n",
    "words += french.words()[:10000]\n",
    "words += spanish.words()[:10000]\n",
    "words += german.words()[:10000]\n"
   ]
  },
  {
   "cell_type": "markdown",
   "metadata": {},
   "source": [
    "Salvo tutte le stop words cioè le parole più \"coomuni\" delle varie lingue importate "
   ]
  },
  {
   "cell_type": "code",
   "execution_count": 5,
   "metadata": {},
   "outputs": [
    {
     "data": {
      "text/plain": [
       "{'a',\n",
       " 'aber',\n",
       " 'about',\n",
       " 'above',\n",
       " 'after',\n",
       " 'again',\n",
       " 'against',\n",
       " 'ain',\n",
       " 'all',\n",
       " 'alle',\n",
       " 'allem',\n",
       " 'allen',\n",
       " 'aller',\n",
       " 'alles',\n",
       " 'als',\n",
       " 'also',\n",
       " 'am',\n",
       " 'an',\n",
       " 'and',\n",
       " 'ander',\n",
       " 'andere',\n",
       " 'anderem',\n",
       " 'anderen',\n",
       " 'anderer',\n",
       " 'anderes',\n",
       " 'anderm',\n",
       " 'andern',\n",
       " 'anderr',\n",
       " 'anders',\n",
       " 'any',\n",
       " 'are',\n",
       " 'aren',\n",
       " \"aren't\",\n",
       " 'as',\n",
       " 'at',\n",
       " 'auch',\n",
       " 'auf',\n",
       " 'aus',\n",
       " 'be',\n",
       " 'because',\n",
       " 'been',\n",
       " 'before',\n",
       " 'bei',\n",
       " 'being',\n",
       " 'below',\n",
       " 'between',\n",
       " 'bin',\n",
       " 'bis',\n",
       " 'bist',\n",
       " 'both',\n",
       " 'but',\n",
       " 'by',\n",
       " 'can',\n",
       " 'couldn',\n",
       " \"couldn't\",\n",
       " 'd',\n",
       " 'da',\n",
       " 'damit',\n",
       " 'dann',\n",
       " 'das',\n",
       " 'dass',\n",
       " 'dasselbe',\n",
       " 'dazu',\n",
       " 'daß',\n",
       " 'dein',\n",
       " 'deine',\n",
       " 'deinem',\n",
       " 'deinen',\n",
       " 'deiner',\n",
       " 'deines',\n",
       " 'dem',\n",
       " 'demselben',\n",
       " 'den',\n",
       " 'denn',\n",
       " 'denselben',\n",
       " 'der',\n",
       " 'derer',\n",
       " 'derselbe',\n",
       " 'derselben',\n",
       " 'des',\n",
       " 'desselben',\n",
       " 'dessen',\n",
       " 'dich',\n",
       " 'did',\n",
       " 'didn',\n",
       " \"didn't\",\n",
       " 'die',\n",
       " 'dies',\n",
       " 'diese',\n",
       " 'dieselbe',\n",
       " 'dieselben',\n",
       " 'diesem',\n",
       " 'diesen',\n",
       " 'dieser',\n",
       " 'dieses',\n",
       " 'dir',\n",
       " 'do',\n",
       " 'doch',\n",
       " 'does',\n",
       " 'doesn',\n",
       " \"doesn't\",\n",
       " 'doing',\n",
       " 'don',\n",
       " \"don't\",\n",
       " 'dort',\n",
       " 'down',\n",
       " 'du',\n",
       " 'durch',\n",
       " 'during',\n",
       " 'each',\n",
       " 'ein',\n",
       " 'eine',\n",
       " 'einem',\n",
       " 'einen',\n",
       " 'einer',\n",
       " 'eines',\n",
       " 'einig',\n",
       " 'einige',\n",
       " 'einigem',\n",
       " 'einigen',\n",
       " 'einiger',\n",
       " 'einiges',\n",
       " 'einmal',\n",
       " 'er',\n",
       " 'es',\n",
       " 'etwas',\n",
       " 'euch',\n",
       " 'euer',\n",
       " 'eure',\n",
       " 'eurem',\n",
       " 'euren',\n",
       " 'eurer',\n",
       " 'eures',\n",
       " 'few',\n",
       " 'for',\n",
       " 'from',\n",
       " 'further',\n",
       " 'für',\n",
       " 'gegen',\n",
       " 'gewesen',\n",
       " 'hab',\n",
       " 'habe',\n",
       " 'haben',\n",
       " 'had',\n",
       " 'hadn',\n",
       " \"hadn't\",\n",
       " 'has',\n",
       " 'hasn',\n",
       " \"hasn't\",\n",
       " 'hat',\n",
       " 'hatte',\n",
       " 'hatten',\n",
       " 'have',\n",
       " 'haven',\n",
       " \"haven't\",\n",
       " 'having',\n",
       " 'he',\n",
       " 'her',\n",
       " 'here',\n",
       " 'hers',\n",
       " 'herself',\n",
       " 'hier',\n",
       " 'him',\n",
       " 'himself',\n",
       " 'hin',\n",
       " 'hinter',\n",
       " 'his',\n",
       " 'how',\n",
       " 'i',\n",
       " 'ich',\n",
       " 'if',\n",
       " 'ihm',\n",
       " 'ihn',\n",
       " 'ihnen',\n",
       " 'ihr',\n",
       " 'ihre',\n",
       " 'ihrem',\n",
       " 'ihren',\n",
       " 'ihrer',\n",
       " 'ihres',\n",
       " 'im',\n",
       " 'in',\n",
       " 'indem',\n",
       " 'ins',\n",
       " 'into',\n",
       " 'is',\n",
       " 'isn',\n",
       " \"isn't\",\n",
       " 'ist',\n",
       " 'it',\n",
       " \"it's\",\n",
       " 'its',\n",
       " 'itself',\n",
       " 'jede',\n",
       " 'jedem',\n",
       " 'jeden',\n",
       " 'jeder',\n",
       " 'jedes',\n",
       " 'jene',\n",
       " 'jenem',\n",
       " 'jenen',\n",
       " 'jener',\n",
       " 'jenes',\n",
       " 'jetzt',\n",
       " 'just',\n",
       " 'kann',\n",
       " 'kein',\n",
       " 'keine',\n",
       " 'keinem',\n",
       " 'keinen',\n",
       " 'keiner',\n",
       " 'keines',\n",
       " 'können',\n",
       " 'könnte',\n",
       " 'll',\n",
       " 'm',\n",
       " 'ma',\n",
       " 'machen',\n",
       " 'man',\n",
       " 'manche',\n",
       " 'manchem',\n",
       " 'manchen',\n",
       " 'mancher',\n",
       " 'manches',\n",
       " 'me',\n",
       " 'mein',\n",
       " 'meine',\n",
       " 'meinem',\n",
       " 'meinen',\n",
       " 'meiner',\n",
       " 'meines',\n",
       " 'mich',\n",
       " 'mightn',\n",
       " \"mightn't\",\n",
       " 'mir',\n",
       " 'mit',\n",
       " 'more',\n",
       " 'most',\n",
       " 'muss',\n",
       " 'musste',\n",
       " 'mustn',\n",
       " \"mustn't\",\n",
       " 'my',\n",
       " 'myself',\n",
       " 'nach',\n",
       " 'needn',\n",
       " \"needn't\",\n",
       " 'nicht',\n",
       " 'nichts',\n",
       " 'no',\n",
       " 'noch',\n",
       " 'nor',\n",
       " 'not',\n",
       " 'now',\n",
       " 'nun',\n",
       " 'nur',\n",
       " 'o',\n",
       " 'ob',\n",
       " 'oder',\n",
       " 'of',\n",
       " 'off',\n",
       " 'ohne',\n",
       " 'on',\n",
       " 'once',\n",
       " 'only',\n",
       " 'or',\n",
       " 'other',\n",
       " 'our',\n",
       " 'ours',\n",
       " 'ourselves',\n",
       " 'out',\n",
       " 'over',\n",
       " 'own',\n",
       " 're',\n",
       " 's',\n",
       " 'same',\n",
       " 'sehr',\n",
       " 'sein',\n",
       " 'seine',\n",
       " 'seinem',\n",
       " 'seinen',\n",
       " 'seiner',\n",
       " 'seines',\n",
       " 'selbst',\n",
       " 'shan',\n",
       " \"shan't\",\n",
       " 'she',\n",
       " \"she's\",\n",
       " 'should',\n",
       " \"should've\",\n",
       " 'shouldn',\n",
       " \"shouldn't\",\n",
       " 'sich',\n",
       " 'sie',\n",
       " 'sind',\n",
       " 'so',\n",
       " 'solche',\n",
       " 'solchem',\n",
       " 'solchen',\n",
       " 'solcher',\n",
       " 'solches',\n",
       " 'soll',\n",
       " 'sollte',\n",
       " 'some',\n",
       " 'sondern',\n",
       " 'sonst',\n",
       " 'such',\n",
       " 't',\n",
       " 'than',\n",
       " 'that',\n",
       " \"that'll\",\n",
       " 'the',\n",
       " 'their',\n",
       " 'theirs',\n",
       " 'them',\n",
       " 'themselves',\n",
       " 'then',\n",
       " 'there',\n",
       " 'these',\n",
       " 'they',\n",
       " 'this',\n",
       " 'those',\n",
       " 'through',\n",
       " 'to',\n",
       " 'too',\n",
       " 'um',\n",
       " 'und',\n",
       " 'under',\n",
       " 'uns',\n",
       " 'unser',\n",
       " 'unsere',\n",
       " 'unserem',\n",
       " 'unseren',\n",
       " 'unseres',\n",
       " 'unter',\n",
       " 'until',\n",
       " 'up',\n",
       " 've',\n",
       " 'very',\n",
       " 'viel',\n",
       " 'vom',\n",
       " 'von',\n",
       " 'vor',\n",
       " 'war',\n",
       " 'waren',\n",
       " 'warst',\n",
       " 'was',\n",
       " 'wasn',\n",
       " \"wasn't\",\n",
       " 'we',\n",
       " 'weg',\n",
       " 'weil',\n",
       " 'weiter',\n",
       " 'welche',\n",
       " 'welchem',\n",
       " 'welchen',\n",
       " 'welcher',\n",
       " 'welches',\n",
       " 'wenn',\n",
       " 'werde',\n",
       " 'werden',\n",
       " 'were',\n",
       " 'weren',\n",
       " \"weren't\",\n",
       " 'what',\n",
       " 'when',\n",
       " 'where',\n",
       " 'which',\n",
       " 'while',\n",
       " 'who',\n",
       " 'whom',\n",
       " 'why',\n",
       " 'wie',\n",
       " 'wieder',\n",
       " 'will',\n",
       " 'wir',\n",
       " 'wird',\n",
       " 'wirst',\n",
       " 'with',\n",
       " 'wo',\n",
       " 'wollen',\n",
       " 'wollte',\n",
       " 'won',\n",
       " \"won't\",\n",
       " 'wouldn',\n",
       " \"wouldn't\",\n",
       " 'während',\n",
       " 'würde',\n",
       " 'würden',\n",
       " 'y',\n",
       " 'you',\n",
       " \"you'd\",\n",
       " \"you'll\",\n",
       " \"you're\",\n",
       " \"you've\",\n",
       " 'your',\n",
       " 'yours',\n",
       " 'yourself',\n",
       " 'yourselves',\n",
       " 'zu',\n",
       " 'zum',\n",
       " 'zur',\n",
       " 'zwar',\n",
       " 'zwischen',\n",
       " 'über'}"
      ]
     },
     "execution_count": 5,
     "metadata": {},
     "output_type": "execute_result"
    }
   ],
   "source": [
    "stop_words_list = set(stopwords.words('english'))\n",
    "stop_words_list.union(set(stopwords.words('italian')))\n",
    "stop_words_list.union(set(stopwords.words('french')))\n",
    "stop_words_list.union(set(stopwords.words('spanish')))\n",
    "stop_words_list.union(set(stopwords.words('german')))"
   ]
  },
  {
   "cell_type": "markdown",
   "metadata": {},
   "source": [
    "Uso i vari tipi di \"filtri\" per elliminare parole o ridurre alla \"radice\" le parole per poi andare a eseguire uno shuffle della lista"
   ]
  },
  {
   "cell_type": "code",
   "execution_count": 6,
   "metadata": {},
   "outputs": [],
   "source": [
    "lemmatizer = WordNetLemmatizer()\n",
    "filtered_sentence = []\n",
    "for w in words:\n",
    "    w = lemmatizer.lemmatize(w)\n",
    "    if w not in stop_words_list :\n",
    "        filtered_sentence.append(w)\n",
    "np.random.shuffle(filtered_sentence)"
   ]
  },
  {
   "cell_type": "markdown",
   "metadata": {},
   "source": [
    "\n",
    "Calculate the **frequency distribution** of the words in the corpus"
   ]
  },
  {
   "cell_type": "code",
   "execution_count": 7,
   "metadata": {},
   "outputs": [],
   "source": [
    "word_frequency_distribution = nltk.FreqDist([word.lower() for word in filtered_sentence])"
   ]
  },
  {
   "cell_type": "markdown",
   "metadata": {},
   "source": [
    "Prendo le prime 8000 parole -> **? più utilizate ?**"
   ]
  },
  {
   "cell_type": "code",
   "execution_count": 8,
   "metadata": {},
   "outputs": [],
   "source": [
    "#sorted = [i[0] for i in word_frequency_distribution.most_common(8000)]\n",
    "word_features = list(word_frequency_distribution.keys())[:8000]\n"
   ]
  },
  {
   "cell_type": "markdown",
   "metadata": {},
   "source": [
    "Creo il featuresets prendendo 8000 sentence per la lingua inglese e 1000 per le altre"
   ]
  },
  {
   "cell_type": "code",
   "execution_count": 9,
   "metadata": {},
   "outputs": [],
   "source": [
    "featuresets = [ (find_features(sentence),\"eng\" ) for sentence in english.sents()[:8000]]\n",
    "featuresets += [ (find_features(sentence),\"not eng\" ) for sentence in italian.sents()[:1000]]\n",
    "featuresets += [ (find_features(sentence),\"not eng\" ) for sentence in french.sents()[:1000]]\n",
    "featuresets += [ (find_features(sentence),\"not eng\" ) for sentence in spanish.sents()[:1000]]\n",
    "featuresets += [ (find_features(sentence),\"not eng\" ) for sentence in german.sents()[:1000]]\n",
    "np.random.shuffle(featuresets)\n"
   ]
  },
  {
   "cell_type": "markdown",
   "metadata": {},
   "source": [
    "\n",
    "Split the featuresets and obtain training and testing"
   ]
  },
  {
   "cell_type": "code",
   "execution_count": 10,
   "metadata": {},
   "outputs": [],
   "source": [
    "training_set = featuresets[0:int(len(featuresets) * 0.8)]\n",
    "testing_set = featuresets[int(len(featuresets) * 0.8):]\n"
   ]
  },
  {
   "cell_type": "markdown",
   "metadata": {},
   "source": [
    "I train my classifier with training_set"
   ]
  },
  {
   "cell_type": "code",
   "execution_count": 11,
   "metadata": {},
   "outputs": [],
   "source": [
    "classifier = nltk.NaiveBayesClassifier.train(training_set)"
   ]
  },
  {
   "cell_type": "markdown",
   "metadata": {},
   "source": [
    "## Make all the metric\n",
    "#### Accuracy:"
   ]
  },
  {
   "cell_type": "code",
   "execution_count": 12,
   "metadata": {},
   "outputs": [
    {
     "name": "stdout",
     "output_type": "stream",
     "text": [
      "Classifier accuracy percent: 99.70833333333333\n"
     ]
    }
   ],
   "source": [
    "print(\"Classifier accuracy percent:\",(nltk.classify.accuracy(classifier, testing_set))*100)"
   ]
  },
  {
   "cell_type": "markdown",
   "metadata": {},
   "source": [
    "#### Precision, Recall:"
   ]
  },
  {
   "cell_type": "code",
   "execution_count": 13,
   "metadata": {},
   "outputs": [
    {
     "name": "stdout",
     "output_type": "stream",
     "text": [
      "eng Precision: 0.9955357142857143\n",
      "eng Recall: 1.0\n",
      "eng F1-Score: 0.9977628635346755\n",
      "\n",
      "not eng Precision: 1.0\n",
      "not eng Recall: 0.9916567342073898\n",
      "not eng F1-Score: 0.9958108916816277\n",
      "\n"
     ]
    }
   ],
   "source": [
    "predictions, gold_labels = defaultdict(set), defaultdict(set)\n",
    "\n",
    "for i, (features, label) in enumerate(testing_set):\n",
    "    predictions[classifier.classify(features)].add(i)\n",
    "    gold_labels[label].add(i) \n",
    "\n",
    "for label in predictions:\n",
    "    print(label, 'Precision:', precision(gold_labels[label], predictions[label]))\n",
    "    print(label, 'Recall:', recall(gold_labels[label], predictions[label]))\n",
    "    print()"
   ]
  },
  {
   "cell_type": "markdown",
   "metadata": {},
   "source": [
    "### Confusion Matrix"
   ]
  },
  {
   "cell_type": "code",
   "execution_count": 14,
   "metadata": {},
   "outputs": [
    {
     "name": "stdout",
     "output_type": "stream",
     "text": [
      "        |         n |\n",
      "        |         o |\n",
      "        |         t |\n",
      "        |           |\n",
      "        |    e    e |\n",
      "        |    n    n |\n",
      "        |    g    g |\n",
      "--------+-----------+\n",
      "    eng |<1561>   . |\n",
      "not eng |    7 <832>|\n",
      "--------+-----------+\n",
      "(row = reference; col = test)\n",
      "\n"
     ]
    }
   ],
   "source": [
    "test_result = []\n",
    "gold_result = []\n",
    "\n",
    "for i in range(len(testing_set)):\n",
    "    test_result.append(classifier.classify(testing_set[i][0]))\n",
    "    gold_result.append(testing_set[i][1])\n",
    "CM = nltk.ConfusionMatrix(gold_result, test_result)\n",
    "print(CM)"
   ]
  },
  {
   "cell_type": "markdown",
   "metadata": {},
   "source": [
    "## Show most informative features of classifier"
   ]
  },
  {
   "cell_type": "code",
   "execution_count": 33,
   "metadata": {},
   "outputs": [
    {
     "name": "stdout",
     "output_type": "stream",
     "text": [
      "Most Informative Features\n",
      "                      en = True           not en : eng    =    536.5 : 1.0\n",
      "                     die = True           not en : eng    =    530.2 : 1.0\n",
      "                      et = True           not en : eng    =    501.7 : 1.0\n",
      "                      el = True           not en : eng    =    489.5 : 1.0\n",
      "                      se = True           not en : eng    =    436.5 : 1.0\n",
      "                      le = True           not en : eng    =    415.9 : 1.0\n",
      "                     den = True           not en : eng    =    262.7 : 1.0\n",
      "                       e = True           not en : eng    =    226.7 : 1.0\n",
      "                       l = True           not en : eng    =    212.5 : 1.0\n",
      "                      je = True           not en : eng    =    173.1 : 1.0\n"
     ]
    }
   ],
   "source": [
    "classifier.show_most_informative_features(10)"
   ]
  },
  {
   "cell_type": "markdown",
   "metadata": {},
   "source": [
    "## Test the classifier"
   ]
  },
  {
   "cell_type": "code",
   "execution_count": 25,
   "metadata": {},
   "outputs": [],
   "source": [
    "def test(text):\n",
    "    text= word_tokenize(text)\n",
    "    feat = find_features(text)\n",
    "    return classifier.classify(feat)"
   ]
  },
  {
   "cell_type": "markdown",
   "metadata": {},
   "source": [
    "### Insert a string and return if it is or it is not Eng"
   ]
  },
  {
   "cell_type": "code",
   "execution_count": 32,
   "metadata": {},
   "outputs": [
    {
     "name": "stdout",
     "output_type": "stream",
     "text": [
      "not eng\n"
     ]
    }
   ],
   "source": [
    "\n",
    "print(test(\"Hola amigo como estas\"))"
   ]
  }
 ],
 "metadata": {
  "kernelspec": {
   "display_name": "Python 3.9.0 64-bit",
   "language": "python",
   "name": "python3"
  },
  "language_info": {
   "codemirror_mode": {
    "name": "ipython",
    "version": 3
   },
   "file_extension": ".py",
   "mimetype": "text/x-python",
   "name": "python",
   "nbconvert_exporter": "python",
   "pygments_lexer": "ipython3",
   "version": "3.9.0"
  },
  "orig_nbformat": 4,
  "vscode": {
   "interpreter": {
    "hash": "11938c6bc6919ae2720b4d5011047913343b08a43b18698fd82dedb0d4417594"
   }
  }
 },
 "nbformat": 4,
 "nbformat_minor": 2
}
